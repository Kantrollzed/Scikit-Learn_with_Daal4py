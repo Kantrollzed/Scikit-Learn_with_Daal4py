{
 "cells": [
  {
   "cell_type": "markdown",
   "metadata": {},
   "source": [
    "##  Расширение возможностей аналитики данных с помощью инструментария daal4py\n",
    "\n",
    "В 2019 году на базе **Intel® Data Analytics Acceleration Library (DAAL)**  библиотека **daal4py**\n",
    "начала активно развиваться.\n",
    "**Intel** презентовало решение, напрямую относящееся к predictive data analysis,\n",
    "имеющее существенное преимущество среди аналогов за счёт производительности и простоты.\n",
    "\n",
    "Библиотека **scikit-learn** предоставляет серьёзный набор инструментов для решения Machine Learning задач.\n",
    "Classification, Regression, Clustering.. с этим всем **scikit-learn** позволяет эффективно справиться.\n",
    "\n",
    "Технология **daal4py** позволяет увеличить производительность\n",
    "классических методов **sklearn** за счёт ускоренных вычислений на базе **Intel DAAL**.\n",
    "\n",
    "Дальше будет представлена реализация методов **daal4py.sklearn** на реальной задаче.\n",
    "Для исследования был выбран датасет, опубликованный на kaggle:\n",
    "#### Cardiovascular Disease dataset\n",
    "Задачей является создание модели,\n",
    "способной сделать предсказание относительно наличия или отсутствия сердечно-сосудистых заболеваний у человека.\n",
    "\n",
    "Let`s get started!"
   ]
  },
  {
   "cell_type": "code",
   "execution_count": 2,
   "metadata": {
    "pycharm": {
     "name": "#%%\n"
    }
   },
   "outputs": [],
   "source": [
    "import pandas as pd\n",
    "import numpy as np\n",
    "from matplotlib import rcParams\n",
    "from timeit import default_timer as timer\n",
    "import matplotlib.pyplot as plt\n",
    "%matplotlib inline\n",
    "import seaborn as sns\n",
    "\n",
    "import warnings\n",
    "warnings.filterwarnings(\"ignore\")"
   ]
  },
  {
   "cell_type": "code",
   "execution_count": 3,
   "metadata": {
    "pycharm": {
     "name": "#%%\n"
    }
   },
   "outputs": [
    {
     "data": {
      "text/html": [
       "<div>\n",
       "<style scoped>\n",
       "    .dataframe tbody tr th:only-of-type {\n",
       "        vertical-align: middle;\n",
       "    }\n",
       "\n",
       "    .dataframe tbody tr th {\n",
       "        vertical-align: top;\n",
       "    }\n",
       "\n",
       "    .dataframe thead th {\n",
       "        text-align: right;\n",
       "    }\n",
       "</style>\n",
       "<table border=\"1\" class=\"dataframe\">\n",
       "  <thead>\n",
       "    <tr style=\"text-align: right;\">\n",
       "      <th></th>\n",
       "      <th>age</th>\n",
       "      <th>gender</th>\n",
       "      <th>height</th>\n",
       "      <th>weight</th>\n",
       "      <th>ap_hi</th>\n",
       "      <th>ap_lo</th>\n",
       "      <th>cholesterol</th>\n",
       "      <th>gluc</th>\n",
       "      <th>smoke</th>\n",
       "      <th>alco</th>\n",
       "      <th>active</th>\n",
       "      <th>cardio</th>\n",
       "    </tr>\n",
       "  </thead>\n",
       "  <tbody>\n",
       "    <tr>\n",
       "      <th>0</th>\n",
       "      <td>18393</td>\n",
       "      <td>2</td>\n",
       "      <td>168</td>\n",
       "      <td>62.0</td>\n",
       "      <td>110</td>\n",
       "      <td>80</td>\n",
       "      <td>1</td>\n",
       "      <td>1</td>\n",
       "      <td>0</td>\n",
       "      <td>0</td>\n",
       "      <td>1</td>\n",
       "      <td>0</td>\n",
       "    </tr>\n",
       "    <tr>\n",
       "      <th>1</th>\n",
       "      <td>20228</td>\n",
       "      <td>1</td>\n",
       "      <td>156</td>\n",
       "      <td>85.0</td>\n",
       "      <td>140</td>\n",
       "      <td>90</td>\n",
       "      <td>3</td>\n",
       "      <td>1</td>\n",
       "      <td>0</td>\n",
       "      <td>0</td>\n",
       "      <td>1</td>\n",
       "      <td>1</td>\n",
       "    </tr>\n",
       "    <tr>\n",
       "      <th>2</th>\n",
       "      <td>18857</td>\n",
       "      <td>1</td>\n",
       "      <td>165</td>\n",
       "      <td>64.0</td>\n",
       "      <td>130</td>\n",
       "      <td>70</td>\n",
       "      <td>3</td>\n",
       "      <td>1</td>\n",
       "      <td>0</td>\n",
       "      <td>0</td>\n",
       "      <td>0</td>\n",
       "      <td>1</td>\n",
       "    </tr>\n",
       "    <tr>\n",
       "      <th>3</th>\n",
       "      <td>17623</td>\n",
       "      <td>2</td>\n",
       "      <td>169</td>\n",
       "      <td>82.0</td>\n",
       "      <td>150</td>\n",
       "      <td>100</td>\n",
       "      <td>1</td>\n",
       "      <td>1</td>\n",
       "      <td>0</td>\n",
       "      <td>0</td>\n",
       "      <td>1</td>\n",
       "      <td>1</td>\n",
       "    </tr>\n",
       "    <tr>\n",
       "      <th>4</th>\n",
       "      <td>17474</td>\n",
       "      <td>1</td>\n",
       "      <td>156</td>\n",
       "      <td>56.0</td>\n",
       "      <td>100</td>\n",
       "      <td>60</td>\n",
       "      <td>1</td>\n",
       "      <td>1</td>\n",
       "      <td>0</td>\n",
       "      <td>0</td>\n",
       "      <td>0</td>\n",
       "      <td>0</td>\n",
       "    </tr>\n",
       "  </tbody>\n",
       "</table>\n",
       "</div>"
      ],
      "text/plain": [
       "     age  gender  height  weight  ap_hi  ap_lo  cholesterol  gluc  smoke  \\\n",
       "0  18393       2     168    62.0    110     80            1     1      0   \n",
       "1  20228       1     156    85.0    140     90            3     1      0   \n",
       "2  18857       1     165    64.0    130     70            3     1      0   \n",
       "3  17623       2     169    82.0    150    100            1     1      0   \n",
       "4  17474       1     156    56.0    100     60            1     1      0   \n",
       "\n",
       "   alco  active  cardio  \n",
       "0     0       1       0  \n",
       "1     0       1       1  \n",
       "2     0       0       1  \n",
       "3     0       1       1  \n",
       "4     0       0       0  "
      ]
     },
     "execution_count": 3,
     "metadata": {},
     "output_type": "execute_result"
    }
   ],
   "source": [
    "# get data\n",
    "data_db = pd.read_csv(\"Dataset/cardio.csv\", sep =\";\")\n",
    "data_db = data_db.drop(\"id\", axis=1)\n",
    "data_db.head()"
   ]
  },
  {
   "cell_type": "code",
   "execution_count": 4,
   "metadata": {
    "pycharm": {
     "name": "#%%\n"
    }
   },
   "outputs": [
    {
     "data": {
      "text/plain": [
       "(70000, 12)"
      ]
     },
     "execution_count": 4,
     "metadata": {},
     "output_type": "execute_result"
    }
   ],
   "source": [
    "data_db.shape"
   ]
  },
  {
   "cell_type": "code",
   "execution_count": 5,
   "metadata": {
    "pycharm": {
     "name": "#%%\n"
    }
   },
   "outputs": [
    {
     "data": {
      "text/plain": [
       "age            0\n",
       "gender         0\n",
       "height         0\n",
       "weight         0\n",
       "ap_hi          0\n",
       "ap_lo          0\n",
       "cholesterol    0\n",
       "gluc           0\n",
       "smoke          0\n",
       "alco           0\n",
       "active         0\n",
       "cardio         0\n",
       "dtype: int64"
      ]
     },
     "execution_count": 5,
     "metadata": {},
     "output_type": "execute_result"
    }
   ],
   "source": [
    "# check missing data\n",
    "data_db.isnull().sum()"
   ]
  },
  {
   "cell_type": "code",
   "execution_count": 6,
   "metadata": {
    "pycharm": {
     "name": "#%%\n"
    }
   },
   "outputs": [
    {
     "data": {
      "image/png": "[encoded data removed]",
      "text/plain": [
       "<Figure size 864x864 with 2 Axes>"
      ]
     },
     "metadata": {},
     "output_type": "display_data"
    }
   ],
   "source": [
    "# get corr matrix\n",
    "corrMatrix = data_db.corr()\n",
    "rcParams['figure.figsize'] = 12, 12\n",
    "sns.heatmap(corrMatrix, annot=True)\n",
    "plt.show()"
   ]
  },
  {
   "cell_type": "markdown",
   "metadata": {},
   "source": [
    "Переменные, сильно коррелирующие с **cardio**:\n",
    " - **age**\n",
    " - **weigth**\n",
    " - **cholesterol**"
   ]
  },
  {
   "cell_type": "code",
   "execution_count": 7,
   "metadata": {
    "pycharm": {
     "name": "#%%\n"
    }
   },
   "outputs": [
    {
     "data": {
      "text/plain": [
       "(30000, 12)"
      ]
     },
     "execution_count": 7,
     "metadata": {},
     "output_type": "execute_result"
    }
   ],
   "source": [
    "# get part of dataset\n",
    "data_db_lite = data_db[1:30001]\n",
    "data_db_lite.shape"
   ]
  },
  {
   "cell_type": "code",
   "execution_count": 8,
   "metadata": {
    "pycharm": {
     "name": "#%%\n"
    }
   },
   "outputs": [],
   "source": [
    "# split data\n",
    "X = data_db_lite.drop(\"cardio\", axis=1)\n",
    "y = data_db_lite[\"cardio\"]\n"
   ]
  },
  {
   "cell_type": "code",
   "execution_count": 9,
   "metadata": {
    "pycharm": {
     "name": "#%%\n"
    }
   },
   "outputs": [
    {
     "data": {
      "text/html": [
       "<div>\n",
       "<style scoped>\n",
       "    .dataframe tbody tr th:only-of-type {\n",
       "        vertical-align: middle;\n",
       "    }\n",
       "\n",
       "    .dataframe tbody tr th {\n",
       "        vertical-align: top;\n",
       "    }\n",
       "\n",
       "    .dataframe thead th {\n",
       "        text-align: right;\n",
       "    }\n",
       "</style>\n",
       "<table border=\"1\" class=\"dataframe\">\n",
       "  <thead>\n",
       "    <tr style=\"text-align: right;\">\n",
       "      <th></th>\n",
       "      <th>age</th>\n",
       "      <th>gender</th>\n",
       "      <th>height</th>\n",
       "      <th>weight</th>\n",
       "      <th>ap_hi</th>\n",
       "      <th>ap_lo</th>\n",
       "      <th>cholesterol</th>\n",
       "      <th>gluc</th>\n",
       "      <th>smoke</th>\n",
       "      <th>alco</th>\n",
       "      <th>active</th>\n",
       "    </tr>\n",
       "  </thead>\n",
       "  <tbody>\n",
       "    <tr>\n",
       "      <th>1</th>\n",
       "      <td>20228</td>\n",
       "      <td>1</td>\n",
       "      <td>156</td>\n",
       "      <td>85.0</td>\n",
       "      <td>140</td>\n",
       "      <td>90</td>\n",
       "      <td>3</td>\n",
       "      <td>1</td>\n",
       "      <td>0</td>\n",
       "      <td>0</td>\n",
       "      <td>1</td>\n",
       "    </tr>\n",
       "    <tr>\n",
       "      <th>2</th>\n",
       "      <td>18857</td>\n",
       "      <td>1</td>\n",
       "      <td>165</td>\n",
       "      <td>64.0</td>\n",
       "      <td>130</td>\n",
       "      <td>70</td>\n",
       "      <td>3</td>\n",
       "      <td>1</td>\n",
       "      <td>0</td>\n",
       "      <td>0</td>\n",
       "      <td>0</td>\n",
       "    </tr>\n",
       "    <tr>\n",
       "      <th>3</th>\n",
       "      <td>17623</td>\n",
       "      <td>2</td>\n",
       "      <td>169</td>\n",
       "      <td>82.0</td>\n",
       "      <td>150</td>\n",
       "      <td>100</td>\n",
       "      <td>1</td>\n",
       "      <td>1</td>\n",
       "      <td>0</td>\n",
       "      <td>0</td>\n",
       "      <td>1</td>\n",
       "    </tr>\n",
       "    <tr>\n",
       "      <th>4</th>\n",
       "      <td>17474</td>\n",
       "      <td>1</td>\n",
       "      <td>156</td>\n",
       "      <td>56.0</td>\n",
       "      <td>100</td>\n",
       "      <td>60</td>\n",
       "      <td>1</td>\n",
       "      <td>1</td>\n",
       "      <td>0</td>\n",
       "      <td>0</td>\n",
       "      <td>0</td>\n",
       "    </tr>\n",
       "    <tr>\n",
       "      <th>5</th>\n",
       "      <td>21914</td>\n",
       "      <td>1</td>\n",
       "      <td>151</td>\n",
       "      <td>67.0</td>\n",
       "      <td>120</td>\n",
       "      <td>80</td>\n",
       "      <td>2</td>\n",
       "      <td>2</td>\n",
       "      <td>0</td>\n",
       "      <td>0</td>\n",
       "      <td>0</td>\n",
       "    </tr>\n",
       "  </tbody>\n",
       "</table>\n",
       "</div>"
      ],
      "text/plain": [
       "     age  gender  height  weight  ap_hi  ap_lo  cholesterol  gluc  smoke  \\\n",
       "1  20228       1     156    85.0    140     90            3     1      0   \n",
       "2  18857       1     165    64.0    130     70            3     1      0   \n",
       "3  17623       2     169    82.0    150    100            1     1      0   \n",
       "4  17474       1     156    56.0    100     60            1     1      0   \n",
       "5  21914       1     151    67.0    120     80            2     2      0   \n",
       "\n",
       "   alco  active  \n",
       "1     0       1  \n",
       "2     0       0  \n",
       "3     0       1  \n",
       "4     0       0  \n",
       "5     0       0  "
      ]
     },
     "execution_count": 9,
     "metadata": {},
     "output_type": "execute_result"
    }
   ],
   "source": [
    "X.head()"
   ]
  },
  {
   "cell_type": "code",
   "execution_count": 10,
   "metadata": {
    "pycharm": {
     "name": "#%%\n"
    }
   },
   "outputs": [
    {
     "data": {
      "text/plain": [
       "1    1\n",
       "2    1\n",
       "3    1\n",
       "4    0\n",
       "5    0\n",
       "Name: cardio, dtype: int64"
      ]
     },
     "execution_count": 10,
     "metadata": {},
     "output_type": "execute_result"
    }
   ],
   "source": [
    "y.head()"
   ]
  },
  {
   "cell_type": "code",
   "execution_count": 11,
   "metadata": {
    "pycharm": {
     "name": "#%%\n"
    }
   },
   "outputs": [
    {
     "name": "stderr",
     "output_type": "stream",
     "text": [
      "Intel(R) Data Analytics Acceleration Library (Intel(R) DAAL) solvers for sklearn enabled: https://intelpython.github.io/daal4py/sklearn.html\n"
     ]
    }
   ],
   "source": [
    "# Models deploying\n",
    "\n",
    "from sklearn.linear_model import LogisticRegression as LogisticRegression_skl\n",
    "from sklearn.ensemble import RandomForestClassifier as RandomForestClassifier_skl\n",
    "from sklearn.neighbors import KNeighborsClassifier as KNeighborsClassifier_skl\n",
    "from sklearn.model_selection import GridSearchCV"
   ]
  },
  {
   "cell_type": "code",
   "execution_count": 12,
   "metadata": {
    "pycharm": {
     "name": "#%%\n"
    }
   },
   "outputs": [],
   "source": [
    "from daal4py.sklearn import ensemble, neighbors, linear_model"
   ]
  },
  {
   "cell_type": "code",
   "execution_count": 13,
   "metadata": {
    "pycharm": {
     "name": "#%%\n"
    }
   },
   "outputs": [],
   "source": [
    "from sklearn.model_selection import train_test_split,cross_val_score,KFold\n",
    "X_train, X_test, y_train, y_test = train_test_split(X, y, random_state = 10, test_size=0.25)\n",
    "\n",
    "learn_data_skl = []\n",
    "learn_data_daal = []"
   ]
  },
  {
   "cell_type": "markdown",
   "metadata": {},
   "source": [
    "#### Данные готовы\n",
    "Переходим к написанию модели.\n",
    "Используются в решении\n",
    "(**sklearn** версии и, соответствующие им, версии в **daal4py**):\n",
    " - **LogisticRegression**\n",
    " - **RandomForestClassifier**\n",
    " - **KNeighborsClassifier**"
   ]
  },
  {
   "cell_type": "markdown",
   "metadata": {},
   "source": [
    "Обучим модели с одинаковыми параметрами,\n",
    "проанализируем полученные результаты."
   ]
  },
  {
   "cell_type": "code",
   "execution_count": 14,
   "metadata": {
    "pycharm": {
     "name": "#%%\n"
    }
   },
   "outputs": [],
   "source": [
    "# Best Logistic Regression\n",
    "def get_best_clf_lr(name, clf, params):\n",
    "    start = timer()\n",
    "    grid_clf = GridSearchCV(estimator=clf, param_grid=params, n_jobs=-1)\n",
    "    grid_clf.fit(X_train, y_train)\n",
    "    end = timer()\n",
    "    learning_time = end - start\n",
    "    print(learning_time)\n",
    "\n",
    "    return name, learning_time, grid_clf.best_estimator_"
   ]
  },
  {
   "cell_type": "code",
   "execution_count": 15,
   "metadata": {
    "pycharm": {
     "name": "#%%\n"
    }
   },
   "outputs": [],
   "source": [
    "# Best Random Forest Classifier\n",
    "def get_best_clf_rf(name, clf, params):\n",
    "    start = timer()\n",
    "    grid_clf = GridSearchCV(estimator=clf, param_grid=params, n_jobs=-1, cv=5)\n",
    "    grid_clf.fit(X_train, y_train)\n",
    "    end = timer()\n",
    "    learning_time = end - start\n",
    "    print(learning_time)\n",
    "\n",
    "    return name, learning_time, grid_clf.best_estimator_"
   ]
  },
  {
   "cell_type": "code",
   "execution_count": 16,
   "metadata": {
    "pycharm": {
     "name": "#%%\n"
    }
   },
   "outputs": [],
   "source": [
    "# Best K Neighbors Classifier\n",
    "def get_best_clf_knn(name, clf, params):\n",
    "    start = timer()\n",
    "    grid_clf = GridSearchCV(estimator=clf, param_grid=params, n_jobs=-1)\n",
    "    grid_clf.fit(X_train, y_train)\n",
    "    end = timer()\n",
    "    learning_time = end - start\n",
    "    print(learning_time)\n",
    "\n",
    "    return name, learning_time, grid_clf.best_estimator_"
   ]
  },
  {
   "cell_type": "code",
   "execution_count": 17,
   "metadata": {
    "pycharm": {
     "name": "#%%\n"
    }
   },
   "outputs": [],
   "source": [
    "# Logistic Regression\n",
    "\n",
    "params_LR = {\n",
    "    \"C\": [0.001, 0.01, 0.1, 1, 10, 100, 1000],\n",
    "    \"penalty\": [\"l1\",\"l2\"]\n",
    "}"
   ]
  },
  {
   "cell_type": "code",
   "execution_count": null,
   "metadata": {
    "pycharm": {
     "is_executing": true,
     "name": "#%%\n"
    }
   },
   "outputs": [],
   "source": [
    "name, lrn_time, model = get_best_clf_lr(\"LR_sklearn\", LogisticRegression_skl(), params_LR)\n",
    "learn_data_skl.append([name, model, lrn_time])\n",
    "\n",
    "name, lrn_time, model = get_best_clf_lr(\"LR_daal4py\" ,linear_model.LogisticRegression(), params_LR)\n",
    "learn_data_daal.append([name, model, lrn_time])"
   ]
  },
  {
   "cell_type": "code",
   "execution_count": 18,
   "metadata": {
    "pycharm": {
     "name": "#%%\n"
    }
   },
   "outputs": [],
   "source": [
    "# Random Forest Classifier\n",
    "\n",
    "params_RF = {\n",
    "    'n_estimators': [1, 3, 5, 7, 10],\n",
    "    'max_depth': [3, 5],\n",
    "    'min_samples_leaf': [2, 4, 6, 8],\n",
    "    'min_samples_split': [2, 4, 6, 8, 10]\n",
    "}"
   ]
  },
  {
   "cell_type": "code",
   "execution_count": 19,
   "metadata": {
    "pycharm": {
     "name": "#%%\n"
    }
   },
   "outputs": [
    {
     "name": "stdout",
     "output_type": "stream",
     "text": [
      "8.094407399999994\n",
      "7.8236234999999965\n"
     ]
    }
   ],
   "source": [
    "name, lrn_time, model = get_best_clf_lr(\"RF_sklearn\", RandomForestClassifier_skl(random_state = 42), params_RF)\n",
    "learn_data_skl.append([name, model, lrn_time])\n",
    "\n",
    "name, lrn_time, model = get_best_clf_lr(\"RF_daal4py\", ensemble.RandomForestClassifier(random_state = 42), params_RF)\n",
    "learn_data_daal.append([name, model, lrn_time])"
   ]
  },
  {
   "cell_type": "code",
   "execution_count": 20,
   "metadata": {
    "pycharm": {
     "name": "#%%\n"
    }
   },
   "outputs": [],
   "source": [
    "# K Neighbors Classifier\n",
    "\n",
    "params_KNN = {\n",
    "    'n_neighbors': [2, 3, 4, 5, 6, 7, 8, 9, 10],\n",
    "    'weights': ['uniform', 'distance'],\n",
    "    'algorithm': ['auto', 'ball_tree', 'kd_tree', 'brute']\n",
    "}"
   ]
  },
  {
   "cell_type": "code",
   "execution_count": 21,
   "metadata": {
    "pycharm": {
     "name": "#%%\n"
    }
   },
   "outputs": [
    {
     "name": "stdout",
     "output_type": "stream",
     "text": [
      "163.07401720000001\n",
      "3.3021068000000184\n"
     ]
    }
   ],
   "source": [
    "name, lrn_time, model = get_best_clf_lr(\"KNN_sklearn\", KNeighborsClassifier_skl(), params_KNN)\n",
    "learn_data_skl.append([name, model, lrn_time])\n",
    "\n",
    "\n",
    "name, lrn_time, model = get_best_clf_lr(\"KNN_daal4py\", neighbors.KNeighborsClassifier(), params_KNN)\n",
    "learn_data_daal.append([name, model, lrn_time])"
   ]
  },
  {
   "cell_type": "code",
   "execution_count": 22,
   "metadata": {
    "pycharm": {
     "name": "#%%\n"
    }
   },
   "outputs": [
    {
     "data": {
      "text/html": [
       "<div>\n",
       "<style scoped>\n",
       "    .dataframe tbody tr th:only-of-type {\n",
       "        vertical-align: middle;\n",
       "    }\n",
       "\n",
       "    .dataframe tbody tr th {\n",
       "        vertical-align: top;\n",
       "    }\n",
       "\n",
       "    .dataframe thead th {\n",
       "        text-align: right;\n",
       "    }\n",
       "</style>\n",
       "<table border=\"1\" class=\"dataframe\">\n",
       "  <thead>\n",
       "    <tr style=\"text-align: right;\">\n",
       "      <th></th>\n",
       "      <th>class_model</th>\n",
       "      <th>model</th>\n",
       "      <th>learning_time</th>\n",
       "    </tr>\n",
       "  </thead>\n",
       "  <tbody>\n",
       "    <tr>\n",
       "      <th>0</th>\n",
       "      <td>LR_sklearn</td>\n",
       "      <td>LogisticRegression(C=1000, class_weight=None, ...</td>\n",
       "      <td>31.943024</td>\n",
       "    </tr>\n",
       "    <tr>\n",
       "      <th>1</th>\n",
       "      <td>RF_sklearn</td>\n",
       "      <td>(DecisionTreeClassifier(class_weight=None, cri...</td>\n",
       "      <td>8.094407</td>\n",
       "    </tr>\n",
       "    <tr>\n",
       "      <th>2</th>\n",
       "      <td>KNN_sklearn</td>\n",
       "      <td>KNeighborsClassifier(algorithm='auto', leaf_si...</td>\n",
       "      <td>163.074017</td>\n",
       "    </tr>\n",
       "  </tbody>\n",
       "</table>\n",
       "</div>"
      ],
      "text/plain": [
       "   class_model                                              model  \\\n",
       "0   LR_sklearn  LogisticRegression(C=1000, class_weight=None, ...   \n",
       "1   RF_sklearn  (DecisionTreeClassifier(class_weight=None, cri...   \n",
       "2  KNN_sklearn  KNeighborsClassifier(algorithm='auto', leaf_si...   \n",
       "\n",
       "   learning_time  \n",
       "0      31.943024  \n",
       "1       8.094407  \n",
       "2     163.074017  "
      ]
     },
     "execution_count": 22,
     "metadata": {},
     "output_type": "execute_result"
    }
   ],
   "source": [
    "learn_data_skl_pd = pd.DataFrame(learn_data_skl).rename(columns={\n",
    "    0:'class_model',\n",
    "    1:'model',\n",
    "    2:'learning_time'\n",
    "})\n",
    "learn_data_skl_pd"
   ]
  },
  {
   "cell_type": "code",
   "execution_count": 23,
   "metadata": {
    "pycharm": {
     "name": "#%%\n"
    }
   },
   "outputs": [
    {
     "data": {
      "text/html": [
       "<div>\n",
       "<style scoped>\n",
       "    .dataframe tbody tr th:only-of-type {\n",
       "        vertical-align: middle;\n",
       "    }\n",
       "\n",
       "    .dataframe tbody tr th {\n",
       "        vertical-align: top;\n",
       "    }\n",
       "\n",
       "    .dataframe thead th {\n",
       "        text-align: right;\n",
       "    }\n",
       "</style>\n",
       "<table border=\"1\" class=\"dataframe\">\n",
       "  <thead>\n",
       "    <tr style=\"text-align: right;\">\n",
       "      <th></th>\n",
       "      <th>class_model</th>\n",
       "      <th>model</th>\n",
       "      <th>learning_time</th>\n",
       "    </tr>\n",
       "  </thead>\n",
       "  <tbody>\n",
       "    <tr>\n",
       "      <th>0</th>\n",
       "      <td>LR_daal4py</td>\n",
       "      <td>LogisticRegression(C=100, class_weight=None, d...</td>\n",
       "      <td>20.619778</td>\n",
       "    </tr>\n",
       "    <tr>\n",
       "      <th>1</th>\n",
       "      <td>RF_daal4py</td>\n",
       "      <td>(DecisionTreeClassifier(class_weight=None, cri...</td>\n",
       "      <td>7.823623</td>\n",
       "    </tr>\n",
       "    <tr>\n",
       "      <th>2</th>\n",
       "      <td>KNN_daal4py</td>\n",
       "      <td>KNeighborsClassifier(algorithm='kd_tree', leaf...</td>\n",
       "      <td>3.302107</td>\n",
       "    </tr>\n",
       "  </tbody>\n",
       "</table>\n",
       "</div>"
      ],
      "text/plain": [
       "   class_model                                              model  \\\n",
       "0   LR_daal4py  LogisticRegression(C=100, class_weight=None, d...   \n",
       "1   RF_daal4py  (DecisionTreeClassifier(class_weight=None, cri...   \n",
       "2  KNN_daal4py  KNeighborsClassifier(algorithm='kd_tree', leaf...   \n",
       "\n",
       "   learning_time  \n",
       "0      20.619778  \n",
       "1       7.823623  \n",
       "2       3.302107  "
      ]
     },
     "execution_count": 23,
     "metadata": {},
     "output_type": "execute_result"
    }
   ],
   "source": [
    "learn_data_daal_pd = pd.DataFrame(learn_data_daal).rename(columns={\n",
    "    0:'class_model',\n",
    "    1:'model',\n",
    "    2:'learning_time'\n",
    "})\n",
    "learn_data_daal_pd"
   ]
  },
  {
   "cell_type": "code",
   "execution_count": 24,
   "metadata": {
    "pycharm": {
     "name": "#%%\n"
    }
   },
   "outputs": [
    {
     "data": {
      "text/html": [
       "<div>\n",
       "<style scoped>\n",
       "    .dataframe tbody tr th:only-of-type {\n",
       "        vertical-align: middle;\n",
       "    }\n",
       "\n",
       "    .dataframe tbody tr th {\n",
       "        vertical-align: top;\n",
       "    }\n",
       "\n",
       "    .dataframe thead th {\n",
       "        text-align: right;\n",
       "    }\n",
       "</style>\n",
       "<table border=\"1\" class=\"dataframe\">\n",
       "  <thead>\n",
       "    <tr style=\"text-align: right;\">\n",
       "      <th></th>\n",
       "      <th>class_model</th>\n",
       "      <th>model</th>\n",
       "      <th>learning_time</th>\n",
       "    </tr>\n",
       "  </thead>\n",
       "  <tbody>\n",
       "    <tr>\n",
       "      <th>0</th>\n",
       "      <td>LR_sklearn</td>\n",
       "      <td>LogisticRegression(C=1000, class_weight=None, ...</td>\n",
       "      <td>31.943024</td>\n",
       "    </tr>\n",
       "    <tr>\n",
       "      <th>1</th>\n",
       "      <td>RF_sklearn</td>\n",
       "      <td>(DecisionTreeClassifier(class_weight=None, cri...</td>\n",
       "      <td>8.094407</td>\n",
       "    </tr>\n",
       "    <tr>\n",
       "      <th>2</th>\n",
       "      <td>KNN_sklearn</td>\n",
       "      <td>KNeighborsClassifier(algorithm='auto', leaf_si...</td>\n",
       "      <td>163.074017</td>\n",
       "    </tr>\n",
       "    <tr>\n",
       "      <th>3</th>\n",
       "      <td>LR_daal4py</td>\n",
       "      <td>LogisticRegression(C=100, class_weight=None, d...</td>\n",
       "      <td>20.619778</td>\n",
       "    </tr>\n",
       "    <tr>\n",
       "      <th>4</th>\n",
       "      <td>RF_daal4py</td>\n",
       "      <td>(DecisionTreeClassifier(class_weight=None, cri...</td>\n",
       "      <td>7.823623</td>\n",
       "    </tr>\n",
       "    <tr>\n",
       "      <th>5</th>\n",
       "      <td>KNN_daal4py</td>\n",
       "      <td>KNeighborsClassifier(algorithm='kd_tree', leaf...</td>\n",
       "      <td>3.302107</td>\n",
       "    </tr>\n",
       "  </tbody>\n",
       "</table>\n",
       "</div>"
      ],
      "text/plain": [
       "   class_model                                              model  \\\n",
       "0   LR_sklearn  LogisticRegression(C=1000, class_weight=None, ...   \n",
       "1   RF_sklearn  (DecisionTreeClassifier(class_weight=None, cri...   \n",
       "2  KNN_sklearn  KNeighborsClassifier(algorithm='auto', leaf_si...   \n",
       "3   LR_daal4py  LogisticRegression(C=100, class_weight=None, d...   \n",
       "4   RF_daal4py  (DecisionTreeClassifier(class_weight=None, cri...   \n",
       "5  KNN_daal4py  KNeighborsClassifier(algorithm='kd_tree', leaf...   \n",
       "\n",
       "   learning_time  \n",
       "0      31.943024  \n",
       "1       8.094407  \n",
       "2     163.074017  \n",
       "3      20.619778  \n",
       "4       7.823623  \n",
       "5       3.302107  "
      ]
     },
     "execution_count": 24,
     "metadata": {},
     "output_type": "execute_result"
    }
   ],
   "source": [
    "learn_data_pd = learn_data_skl_pd.append(learn_data_daal_pd).reset_index().drop(\"index\", axis=1)\n",
    "learn_data_pd"
   ]
  },
  {
   "cell_type": "code",
   "execution_count": 25,
   "metadata": {
    "pycharm": {
     "name": "#%%\n"
    }
   },
   "outputs": [
    {
     "data": {
      "text/plain": [
       "<matplotlib.axes._subplots.AxesSubplot at 0x211db795160>"
      ]
     },
     "execution_count": 25,
     "metadata": {},
     "output_type": "execute_result"
    },
    {
     "data": {
      "image/png": "[encoded data removed]",
      "text/plain": [
       "<Figure size 360x360 with 1 Axes>"
      ]
     },
     "metadata": {},
     "output_type": "display_data"
    }
   ],
   "source": [
    "data_LR_pd = learn_data_pd.set_index('class_model').loc[['LR_sklearn', 'LR_daal4py']].reset_index()\n",
    "\n",
    "rcParams['figure.figsize'] = 5, 5\n",
    "data_LR_pd.plot.barh(x=\"class_model\", y=\"learning_time\", title='Logistic Regression Learning Time')"
   ]
  },
  {
   "cell_type": "code",
   "execution_count": 26,
   "metadata": {
    "pycharm": {
     "name": "#%%\n"
    }
   },
   "outputs": [
    {
     "data": {
      "text/plain": [
       "<matplotlib.axes._subplots.AxesSubplot at 0x211daa4e7f0>"
      ]
     },
     "execution_count": 26,
     "metadata": {},
     "output_type": "execute_result"
    },
    {
     "data": {
      "image/png": "[encoded data removed]",
      "text/plain": [
       "<Figure size 360x360 with 1 Axes>"
      ]
     },
     "metadata": {},
     "output_type": "display_data"
    }
   ],
   "source": [
    "data_RF_pd = learn_data_pd.set_index('class_model').loc[['RF_sklearn', 'RF_daal4py']].reset_index()\n",
    "\n",
    "rcParams['figure.figsize'] = 5, 5\n",
    "data_RF_pd.plot.barh(x=\"class_model\", y=\"learning_time\", title='Random Forest Learning Time')"
   ]
  },
  {
   "cell_type": "code",
   "execution_count": 27,
   "metadata": {
    "pycharm": {
     "name": "#%%\n"
    }
   },
   "outputs": [
    {
     "data": {
      "text/plain": [
       "<matplotlib.axes._subplots.AxesSubplot at 0x211dbcd9588>"
      ]
     },
     "execution_count": 27,
     "metadata": {},
     "output_type": "execute_result"
    },
    {
     "data": {
      "image/png": "[encoded data removed]",
      "text/plain": [
       "<Figure size 360x360 with 1 Axes>"
      ]
     },
     "metadata": {},
     "output_type": "display_data"
    }
   ],
   "source": [
    "data_KNN_pd = learn_data_pd.set_index('class_model').loc[['KNN_sklearn', 'KNN_daal4py']].reset_index()\n",
    "\n",
    "rcParams['figure.figsize'] = 5, 5\n",
    "data_KNN_pd.plot.barh(x=\"class_model\", y=\"learning_time\", title='K-Neigbours Learning Time')"
   ]
  },
  {
   "cell_type": "markdown",
   "metadata": {},
   "source": [
    "**Прирост скорости обучения** замечен на каждой модели.\n",
    "\n",
    "Особенно заметно ускорение на модели **KNeighborsClassifier**:"
   ]
  },
  {
   "cell_type": "code",
   "execution_count": 28,
   "metadata": {
    "pycharm": {
     "name": "#%%\n"
    }
   },
   "outputs": [
    {
     "name": "stdout",
     "output_type": "stream",
     "text": [
      "Полученное ускорение:\n",
      " в  49.38  раз \n",
      " на  159.77  секунд\n"
     ]
    }
   ],
   "source": [
    "print(\"Полученное ускорение:\\n в \", round(data_KNN_pd.learning_time.values[0] / data_KNN_pd.learning_time.values[1], 2),\n",
    "      \" раз \\n на \", round(data_KNN_pd.learning_time.values[0] - data_KNN_pd.learning_time.values[1], 2), \" секунд\")"
   ]
  },
  {
   "cell_type": "code",
   "execution_count": 29,
   "metadata": {
    "pycharm": {
     "name": "#%%\n"
    }
   },
   "outputs": [],
   "source": [
    "from sklearn.metrics import roc_auc_score, precision_score, recall_score"
   ]
  },
  {
   "cell_type": "code",
   "execution_count": 30,
   "metadata": {
    "pycharm": {
     "name": "#%%\n"
    }
   },
   "outputs": [],
   "source": [
    "def add_metrics(learn_data):\n",
    "    for model_data in learn_data:\n",
    "        kfold = KFold(n_splits = 5,random_state = 42)\n",
    "        accuracy = cross_val_score(model_data[1], np.array(X), np.array(y), cv=kfold, scoring=\"accuracy\").mean()\n",
    "\n",
    "        y_pred = model_data[1].predict(X_test)\n",
    "        precision = precision_score(y_test, y_pred)\n",
    "        recall = recall_score(y_test, y_pred)\n",
    "        roc_auc = roc_auc_score(y_test, y_pred)\n",
    "\n",
    "        model_data.append(accuracy)\n",
    "        model_data.append(roc_auc)\n",
    "        model_data.append(precision)\n",
    "        model_data.append(recall)\n",
    "    return learn_data"
   ]
  },
  {
   "cell_type": "code",
   "execution_count": 31,
   "metadata": {
    "pycharm": {
     "name": "#%%\n"
    }
   },
   "outputs": [
    {
     "data": {
      "text/html": [
       "<div>\n",
       "<style scoped>\n",
       "    .dataframe tbody tr th:only-of-type {\n",
       "        vertical-align: middle;\n",
       "    }\n",
       "\n",
       "    .dataframe tbody tr th {\n",
       "        vertical-align: top;\n",
       "    }\n",
       "\n",
       "    .dataframe thead th {\n",
       "        text-align: right;\n",
       "    }\n",
       "</style>\n",
       "<table border=\"1\" class=\"dataframe\">\n",
       "  <thead>\n",
       "    <tr style=\"text-align: right;\">\n",
       "      <th></th>\n",
       "      <th>class_model</th>\n",
       "      <th>model</th>\n",
       "      <th>learning_time</th>\n",
       "      <th>accuracy</th>\n",
       "      <th>roc_auc_score</th>\n",
       "      <th>precision</th>\n",
       "      <th>recall</th>\n",
       "    </tr>\n",
       "  </thead>\n",
       "  <tbody>\n",
       "    <tr>\n",
       "      <th>0</th>\n",
       "      <td>LR_sklearn</td>\n",
       "      <td>LogisticRegression(C=1000, class_weight=None, ...</td>\n",
       "      <td>31.943024</td>\n",
       "      <td>0.724567</td>\n",
       "      <td>0.724468</td>\n",
       "      <td>0.743537</td>\n",
       "      <td>0.680011</td>\n",
       "    </tr>\n",
       "    <tr>\n",
       "      <th>1</th>\n",
       "      <td>RF_sklearn</td>\n",
       "      <td>(DecisionTreeClassifier(class_weight=None, cri...</td>\n",
       "      <td>8.094407</td>\n",
       "      <td>0.731533</td>\n",
       "      <td>0.728801</td>\n",
       "      <td>0.764210</td>\n",
       "      <td>0.657442</td>\n",
       "    </tr>\n",
       "    <tr>\n",
       "      <th>2</th>\n",
       "      <td>KNN_sklearn</td>\n",
       "      <td>KNeighborsClassifier(algorithm='auto', leaf_si...</td>\n",
       "      <td>163.074017</td>\n",
       "      <td>0.696733</td>\n",
       "      <td>0.689065</td>\n",
       "      <td>0.700576</td>\n",
       "      <td>0.653143</td>\n",
       "    </tr>\n",
       "  </tbody>\n",
       "</table>\n",
       "</div>"
      ],
      "text/plain": [
       "   class_model                                              model  \\\n",
       "0   LR_sklearn  LogisticRegression(C=1000, class_weight=None, ...   \n",
       "1   RF_sklearn  (DecisionTreeClassifier(class_weight=None, cri...   \n",
       "2  KNN_sklearn  KNeighborsClassifier(algorithm='auto', leaf_si...   \n",
       "\n",
       "   learning_time  accuracy  roc_auc_score  precision    recall  \n",
       "0      31.943024  0.724567       0.724468   0.743537  0.680011  \n",
       "1       8.094407  0.731533       0.728801   0.764210  0.657442  \n",
       "2     163.074017  0.696733       0.689065   0.700576  0.653143  "
      ]
     },
     "execution_count": 31,
     "metadata": {},
     "output_type": "execute_result"
    }
   ],
   "source": [
    "learn_data_skl = add_metrics(learn_data_skl)\n",
    "lds = pd.DataFrame(learn_data_skl).rename(columns={\n",
    "    0:'class_model',\n",
    "    1:'model',\n",
    "    2:'learning_time',\n",
    "    3:'accuracy',\n",
    "    4:'roc_auc_score',\n",
    "    5:'precision',\n",
    "    6:'recall'\n",
    "})\n",
    "lds"
   ]
  },
  {
   "cell_type": "code",
   "execution_count": 32,
   "metadata": {
    "pycharm": {
     "name": "#%%\n"
    }
   },
   "outputs": [
    {
     "data": {
      "text/html": [
       "<div>\n",
       "<style scoped>\n",
       "    .dataframe tbody tr th:only-of-type {\n",
       "        vertical-align: middle;\n",
       "    }\n",
       "\n",
       "    .dataframe tbody tr th {\n",
       "        vertical-align: top;\n",
       "    }\n",
       "\n",
       "    .dataframe thead th {\n",
       "        text-align: right;\n",
       "    }\n",
       "</style>\n",
       "<table border=\"1\" class=\"dataframe\">\n",
       "  <thead>\n",
       "    <tr style=\"text-align: right;\">\n",
       "      <th></th>\n",
       "      <th>class_model</th>\n",
       "      <th>model</th>\n",
       "      <th>learning_time</th>\n",
       "      <th>accuracy</th>\n",
       "      <th>roc_auc_score</th>\n",
       "      <th>precision</th>\n",
       "      <th>recall</th>\n",
       "    </tr>\n",
       "  </thead>\n",
       "  <tbody>\n",
       "    <tr>\n",
       "      <th>0</th>\n",
       "      <td>LR_daal4py</td>\n",
       "      <td>LogisticRegression(C=100, class_weight=None, d...</td>\n",
       "      <td>20.619778</td>\n",
       "      <td>0.724933</td>\n",
       "      <td>0.724468</td>\n",
       "      <td>0.743537</td>\n",
       "      <td>0.680011</td>\n",
       "    </tr>\n",
       "    <tr>\n",
       "      <th>1</th>\n",
       "      <td>RF_daal4py</td>\n",
       "      <td>(DecisionTreeClassifier(class_weight=None, cri...</td>\n",
       "      <td>7.823623</td>\n",
       "      <td>0.734533</td>\n",
       "      <td>0.730533</td>\n",
       "      <td>0.766323</td>\n",
       "      <td>0.659054</td>\n",
       "    </tr>\n",
       "    <tr>\n",
       "      <th>2</th>\n",
       "      <td>KNN_daal4py</td>\n",
       "      <td>KNeighborsClassifier(algorithm='kd_tree', leaf...</td>\n",
       "      <td>3.302107</td>\n",
       "      <td>0.662367</td>\n",
       "      <td>0.653918</td>\n",
       "      <td>0.654004</td>\n",
       "      <td>0.642934</td>\n",
       "    </tr>\n",
       "  </tbody>\n",
       "</table>\n",
       "</div>"
      ],
      "text/plain": [
       "   class_model                                              model  \\\n",
       "0   LR_daal4py  LogisticRegression(C=100, class_weight=None, d...   \n",
       "1   RF_daal4py  (DecisionTreeClassifier(class_weight=None, cri...   \n",
       "2  KNN_daal4py  KNeighborsClassifier(algorithm='kd_tree', leaf...   \n",
       "\n",
       "   learning_time  accuracy  roc_auc_score  precision    recall  \n",
       "0      20.619778  0.724933       0.724468   0.743537  0.680011  \n",
       "1       7.823623  0.734533       0.730533   0.766323  0.659054  \n",
       "2       3.302107  0.662367       0.653918   0.654004  0.642934  "
      ]
     },
     "execution_count": 32,
     "metadata": {},
     "output_type": "execute_result"
    }
   ],
   "source": [
    "learn_data_daal = add_metrics(learn_data_daal)\n",
    "ldd = pd.DataFrame(learn_data_daal).rename(columns={\n",
    "    0:'class_model',\n",
    "    1:'model',\n",
    "    2:'learning_time',\n",
    "    3:'accuracy',\n",
    "    4:'roc_auc_score',\n",
    "    5:'precision',\n",
    "    6:'recall'\n",
    "})\n",
    "ldd"
   ]
  },
  {
   "cell_type": "markdown",
   "metadata": {},
   "source": [
    "Получены **accuracy**, **roc_auc_score** моделей.\n",
    "\n",
    "Cущественного отличия между точностью предсказания моделей **sklearn** и **daal4py** не наблюдется,\n",
    "но посредством запуска кода на инструментарии **Intel DAAL** появляется выигрыш во времени у модели **daal4py**.\n",
    "\n",
    "Появляется возможность повысить качество модели, без потери времени на обучение.\n",
    "\n",
    "Для начала соберём полученные модели в ensamble.  \n",
    "Конечной точностью модели будем считать именно точность **VotingClassifier** модели"
   ]
  },
  {
   "cell_type": "code",
   "execution_count": 33,
   "metadata": {
    "pycharm": {
     "name": "#%%\n"
    }
   },
   "outputs": [],
   "source": [
    "from sklearn.ensemble import VotingClassifier"
   ]
  },
  {
   "cell_type": "code",
   "execution_count": 34,
   "metadata": {
    "pycharm": {
     "name": "#%%\n"
    }
   },
   "outputs": [],
   "source": [
    "def get_VoteClf(models, times):\n",
    "    clf_vote = VotingClassifier(estimators=models, voting='hard')\n",
    "    clf_vote.fit(X_train, y_train)\n",
    "    print(times.sum())\n",
    "    \n",
    "    return clf_vote, times.sum()"
   ]
  },
  {
   "cell_type": "code",
   "execution_count": 35,
   "metadata": {
    "pycharm": {
     "name": "#%%\n"
    }
   },
   "outputs": [
    {
     "name": "stdout",
     "output_type": "stream",
     "text": [
      "203.1114488\n"
     ]
    },
    {
     "data": {
      "text/html": [
       "<div>\n",
       "<style scoped>\n",
       "    .dataframe tbody tr th:only-of-type {\n",
       "        vertical-align: middle;\n",
       "    }\n",
       "\n",
       "    .dataframe tbody tr th {\n",
       "        vertical-align: top;\n",
       "    }\n",
       "\n",
       "    .dataframe thead th {\n",
       "        text-align: right;\n",
       "    }\n",
       "</style>\n",
       "<table border=\"1\" class=\"dataframe\">\n",
       "  <thead>\n",
       "    <tr style=\"text-align: right;\">\n",
       "      <th></th>\n",
       "      <th>class_model</th>\n",
       "      <th>model</th>\n",
       "      <th>learning_time</th>\n",
       "      <th>accuracy</th>\n",
       "      <th>roc_auc_score</th>\n",
       "      <th>precision</th>\n",
       "      <th>recall</th>\n",
       "    </tr>\n",
       "  </thead>\n",
       "  <tbody>\n",
       "    <tr>\n",
       "      <th>0</th>\n",
       "      <td>LR_sklearn</td>\n",
       "      <td>LogisticRegression(C=1000, class_weight=None, ...</td>\n",
       "      <td>31.943024</td>\n",
       "      <td>0.724567</td>\n",
       "      <td>0.724468</td>\n",
       "      <td>0.743537</td>\n",
       "      <td>0.680011</td>\n",
       "    </tr>\n",
       "    <tr>\n",
       "      <th>1</th>\n",
       "      <td>RF_sklearn</td>\n",
       "      <td>(DecisionTreeClassifier(class_weight=None, cri...</td>\n",
       "      <td>8.094407</td>\n",
       "      <td>0.731533</td>\n",
       "      <td>0.728801</td>\n",
       "      <td>0.764210</td>\n",
       "      <td>0.657442</td>\n",
       "    </tr>\n",
       "    <tr>\n",
       "      <th>2</th>\n",
       "      <td>KNN_sklearn</td>\n",
       "      <td>KNeighborsClassifier(algorithm='auto', leaf_si...</td>\n",
       "      <td>163.074017</td>\n",
       "      <td>0.696733</td>\n",
       "      <td>0.689065</td>\n",
       "      <td>0.700576</td>\n",
       "      <td>0.653143</td>\n",
       "    </tr>\n",
       "    <tr>\n",
       "      <th>3</th>\n",
       "      <td>Vote_sklearn</td>\n",
       "      <td>VotingClassifier(estimators=[['LR_sklearn',\\n ...</td>\n",
       "      <td>203.111449</td>\n",
       "      <td>0.732333</td>\n",
       "      <td>0.730783</td>\n",
       "      <td>0.757083</td>\n",
       "      <td>0.674906</td>\n",
       "    </tr>\n",
       "  </tbody>\n",
       "</table>\n",
       "</div>"
      ],
      "text/plain": [
       "    class_model                                              model  \\\n",
       "0    LR_sklearn  LogisticRegression(C=1000, class_weight=None, ...   \n",
       "1    RF_sklearn  (DecisionTreeClassifier(class_weight=None, cri...   \n",
       "2   KNN_sklearn  KNeighborsClassifier(algorithm='auto', leaf_si...   \n",
       "3  Vote_sklearn  VotingClassifier(estimators=[['LR_sklearn',\\n ...   \n",
       "\n",
       "   learning_time  accuracy  roc_auc_score  precision    recall  \n",
       "0      31.943024  0.724567       0.724468   0.743537  0.680011  \n",
       "1       8.094407  0.731533       0.728801   0.764210  0.657442  \n",
       "2     163.074017  0.696733       0.689065   0.700576  0.653143  \n",
       "3     203.111449  0.732333       0.730783   0.757083  0.674906  "
      ]
     },
     "execution_count": 35,
     "metadata": {},
     "output_type": "execute_result"
    }
   ],
   "source": [
    "# add Vote sklearn\n",
    "model = get_VoteClf(lds[[\"class_model\",\"model\"]].values.tolist(), lds.learning_time.to_numpy())\n",
    "model = add_metrics([[\"Vote_sklearn\" , model[0], model[1]]])\n",
    "\n",
    "learn_data_skl.append(model[0])\n",
    "lds = pd.DataFrame(learn_data_skl).rename(columns={\n",
    "    0:'class_model',\n",
    "    1:'model',\n",
    "    2:'learning_time',\n",
    "    3:'accuracy',\n",
    "    4:'roc_auc_score',\n",
    "    5:'precision',\n",
    "    6:'recall'\n",
    "})\n",
    "lds"
   ]
  },
  {
   "cell_type": "code",
   "execution_count": 36,
   "metadata": {
    "pycharm": {
     "name": "#%%\n"
    }
   },
   "outputs": [
    {
     "name": "stdout",
     "output_type": "stream",
     "text": [
      "31.745508200000017\n"
     ]
    },
    {
     "data": {
      "text/html": [
       "<div>\n",
       "<style scoped>\n",
       "    .dataframe tbody tr th:only-of-type {\n",
       "        vertical-align: middle;\n",
       "    }\n",
       "\n",
       "    .dataframe tbody tr th {\n",
       "        vertical-align: top;\n",
       "    }\n",
       "\n",
       "    .dataframe thead th {\n",
       "        text-align: right;\n",
       "    }\n",
       "</style>\n",
       "<table border=\"1\" class=\"dataframe\">\n",
       "  <thead>\n",
       "    <tr style=\"text-align: right;\">\n",
       "      <th></th>\n",
       "      <th>class_model</th>\n",
       "      <th>model</th>\n",
       "      <th>learning_time</th>\n",
       "      <th>accuracy</th>\n",
       "      <th>roc_auc_score</th>\n",
       "      <th>precision</th>\n",
       "      <th>recall</th>\n",
       "    </tr>\n",
       "  </thead>\n",
       "  <tbody>\n",
       "    <tr>\n",
       "      <th>0</th>\n",
       "      <td>LR_daal4py</td>\n",
       "      <td>LogisticRegression(C=100, class_weight=None, d...</td>\n",
       "      <td>20.619778</td>\n",
       "      <td>0.724933</td>\n",
       "      <td>0.724468</td>\n",
       "      <td>0.743537</td>\n",
       "      <td>0.680011</td>\n",
       "    </tr>\n",
       "    <tr>\n",
       "      <th>1</th>\n",
       "      <td>RF_daal4py</td>\n",
       "      <td>(DecisionTreeClassifier(class_weight=None, cri...</td>\n",
       "      <td>7.823623</td>\n",
       "      <td>0.734533</td>\n",
       "      <td>0.730533</td>\n",
       "      <td>0.766323</td>\n",
       "      <td>0.659054</td>\n",
       "    </tr>\n",
       "    <tr>\n",
       "      <th>2</th>\n",
       "      <td>KNN_daal4py</td>\n",
       "      <td>KNeighborsClassifier(algorithm='kd_tree', leaf...</td>\n",
       "      <td>3.302107</td>\n",
       "      <td>0.662367</td>\n",
       "      <td>0.653918</td>\n",
       "      <td>0.654004</td>\n",
       "      <td>0.642934</td>\n",
       "    </tr>\n",
       "    <tr>\n",
       "      <th>3</th>\n",
       "      <td>Vote_daal4py</td>\n",
       "      <td>VotingClassifier(estimators=[['LR_daal4py',\\n ...</td>\n",
       "      <td>31.745508</td>\n",
       "      <td>0.732267</td>\n",
       "      <td>0.731713</td>\n",
       "      <td>0.758371</td>\n",
       "      <td>0.675443</td>\n",
       "    </tr>\n",
       "  </tbody>\n",
       "</table>\n",
       "</div>"
      ],
      "text/plain": [
       "    class_model                                              model  \\\n",
       "0    LR_daal4py  LogisticRegression(C=100, class_weight=None, d...   \n",
       "1    RF_daal4py  (DecisionTreeClassifier(class_weight=None, cri...   \n",
       "2   KNN_daal4py  KNeighborsClassifier(algorithm='kd_tree', leaf...   \n",
       "3  Vote_daal4py  VotingClassifier(estimators=[['LR_daal4py',\\n ...   \n",
       "\n",
       "   learning_time  accuracy  roc_auc_score  precision    recall  \n",
       "0      20.619778  0.724933       0.724468   0.743537  0.680011  \n",
       "1       7.823623  0.734533       0.730533   0.766323  0.659054  \n",
       "2       3.302107  0.662367       0.653918   0.654004  0.642934  \n",
       "3      31.745508  0.732267       0.731713   0.758371  0.675443  "
      ]
     },
     "execution_count": 36,
     "metadata": {},
     "output_type": "execute_result"
    }
   ],
   "source": [
    "# add Vote daal4py\n",
    "model = get_VoteClf(ldd[[\"class_model\",\"model\"]].values.tolist(), ldd.learning_time.to_numpy())\n",
    "model = add_metrics([[\"Vote_daal4py\" , model[0], model[1]]])\n",
    "\n",
    "learn_data_daal.append(model[0])\n",
    "ldd = pd.DataFrame(learn_data_daal).rename(columns={\n",
    "    0:'class_model',\n",
    "    1:'model',\n",
    "    2:'learning_time',\n",
    "    3:'accuracy',\n",
    "    4:'roc_auc_score',\n",
    "    5:'precision',\n",
    "    6:'recall'\n",
    "})\n",
    "ldd"
   ]
  },
  {
   "cell_type": "markdown",
   "metadata": {},
   "source": [
    "#### Поработаем с качеством модели\n",
    "\n",
    " 1. **RandomForest**. Попробуем получить улучшение качества работы модели\n",
    "за счёт углубления дерева и увеличения количества деревьев.\n",
    "Соотвественно меняем параметры  **n_estimators** и **max_depth**\n",
    " 2. Изначально использовалась **выборка** в 30000 позиций. Увеличим её на 10000."
   ]
  },
  {
   "cell_type": "code",
   "execution_count": 37,
   "metadata": {
    "pycharm": {
     "name": "#%%\n"
    }
   },
   "outputs": [
    {
     "data": {
      "text/plain": [
       "(40000, 12)"
      ]
     },
     "execution_count": 37,
     "metadata": {},
     "output_type": "execute_result"
    }
   ],
   "source": [
    "# add 10000 positions\n",
    "data_db_lite = data_db[1:40001]\n",
    "data_db_lite.shape"
   ]
  },
  {
   "cell_type": "code",
   "execution_count": 38,
   "metadata": {
    "pycharm": {
     "name": "#%%\n"
    }
   },
   "outputs": [],
   "source": [
    "# split data\n",
    "X = data_db_lite.drop(\"cardio\", axis=1)\n",
    "y = data_db_lite[\"cardio\"]\n"
   ]
  },
  {
   "cell_type": "code",
   "execution_count": 39,
   "metadata": {
    "pycharm": {
     "name": "#%%\n"
    }
   },
   "outputs": [
    {
     "data": {
      "text/html": [
       "<div>\n",
       "<style scoped>\n",
       "    .dataframe tbody tr th:only-of-type {\n",
       "        vertical-align: middle;\n",
       "    }\n",
       "\n",
       "    .dataframe tbody tr th {\n",
       "        vertical-align: top;\n",
       "    }\n",
       "\n",
       "    .dataframe thead th {\n",
       "        text-align: right;\n",
       "    }\n",
       "</style>\n",
       "<table border=\"1\" class=\"dataframe\">\n",
       "  <thead>\n",
       "    <tr style=\"text-align: right;\">\n",
       "      <th></th>\n",
       "      <th>age</th>\n",
       "      <th>gender</th>\n",
       "      <th>height</th>\n",
       "      <th>weight</th>\n",
       "      <th>ap_hi</th>\n",
       "      <th>ap_lo</th>\n",
       "      <th>cholesterol</th>\n",
       "      <th>gluc</th>\n",
       "      <th>smoke</th>\n",
       "      <th>alco</th>\n",
       "      <th>active</th>\n",
       "    </tr>\n",
       "  </thead>\n",
       "  <tbody>\n",
       "    <tr>\n",
       "      <th>1</th>\n",
       "      <td>20228</td>\n",
       "      <td>1</td>\n",
       "      <td>156</td>\n",
       "      <td>85.0</td>\n",
       "      <td>140</td>\n",
       "      <td>90</td>\n",
       "      <td>3</td>\n",
       "      <td>1</td>\n",
       "      <td>0</td>\n",
       "      <td>0</td>\n",
       "      <td>1</td>\n",
       "    </tr>\n",
       "    <tr>\n",
       "      <th>2</th>\n",
       "      <td>18857</td>\n",
       "      <td>1</td>\n",
       "      <td>165</td>\n",
       "      <td>64.0</td>\n",
       "      <td>130</td>\n",
       "      <td>70</td>\n",
       "      <td>3</td>\n",
       "      <td>1</td>\n",
       "      <td>0</td>\n",
       "      <td>0</td>\n",
       "      <td>0</td>\n",
       "    </tr>\n",
       "    <tr>\n",
       "      <th>3</th>\n",
       "      <td>17623</td>\n",
       "      <td>2</td>\n",
       "      <td>169</td>\n",
       "      <td>82.0</td>\n",
       "      <td>150</td>\n",
       "      <td>100</td>\n",
       "      <td>1</td>\n",
       "      <td>1</td>\n",
       "      <td>0</td>\n",
       "      <td>0</td>\n",
       "      <td>1</td>\n",
       "    </tr>\n",
       "    <tr>\n",
       "      <th>4</th>\n",
       "      <td>17474</td>\n",
       "      <td>1</td>\n",
       "      <td>156</td>\n",
       "      <td>56.0</td>\n",
       "      <td>100</td>\n",
       "      <td>60</td>\n",
       "      <td>1</td>\n",
       "      <td>1</td>\n",
       "      <td>0</td>\n",
       "      <td>0</td>\n",
       "      <td>0</td>\n",
       "    </tr>\n",
       "    <tr>\n",
       "      <th>5</th>\n",
       "      <td>21914</td>\n",
       "      <td>1</td>\n",
       "      <td>151</td>\n",
       "      <td>67.0</td>\n",
       "      <td>120</td>\n",
       "      <td>80</td>\n",
       "      <td>2</td>\n",
       "      <td>2</td>\n",
       "      <td>0</td>\n",
       "      <td>0</td>\n",
       "      <td>0</td>\n",
       "    </tr>\n",
       "  </tbody>\n",
       "</table>\n",
       "</div>"
      ],
      "text/plain": [
       "     age  gender  height  weight  ap_hi  ap_lo  cholesterol  gluc  smoke  \\\n",
       "1  20228       1     156    85.0    140     90            3     1      0   \n",
       "2  18857       1     165    64.0    130     70            3     1      0   \n",
       "3  17623       2     169    82.0    150    100            1     1      0   \n",
       "4  17474       1     156    56.0    100     60            1     1      0   \n",
       "5  21914       1     151    67.0    120     80            2     2      0   \n",
       "\n",
       "   alco  active  \n",
       "1     0       1  \n",
       "2     0       0  \n",
       "3     0       1  \n",
       "4     0       0  \n",
       "5     0       0  "
      ]
     },
     "execution_count": 39,
     "metadata": {},
     "output_type": "execute_result"
    }
   ],
   "source": [
    "X.head()"
   ]
  },
  {
   "cell_type": "code",
   "execution_count": 40,
   "metadata": {
    "pycharm": {
     "name": "#%%\n"
    }
   },
   "outputs": [
    {
     "data": {
      "text/plain": [
       "1    1\n",
       "2    1\n",
       "3    1\n",
       "4    0\n",
       "5    0\n",
       "Name: cardio, dtype: int64"
      ]
     },
     "execution_count": 40,
     "metadata": {},
     "output_type": "execute_result"
    }
   ],
   "source": [
    "y.head()"
   ]
  },
  {
   "cell_type": "code",
   "execution_count": 41,
   "metadata": {
    "pycharm": {
     "name": "#%%\n"
    }
   },
   "outputs": [],
   "source": [
    "X_train, X_test, y_train, y_test = train_test_split(X, y, random_state = 10, test_size=0.25)"
   ]
  },
  {
   "cell_type": "code",
   "execution_count": 42,
   "metadata": {
    "pycharm": {
     "name": "#%%\n"
    }
   },
   "outputs": [],
   "source": [
    "learn_data_daal_v2 = []\n"
   ]
  },
  {
   "cell_type": "code",
   "execution_count": 43,
   "metadata": {
    "pycharm": {
     "name": "#%%\n"
    }
   },
   "outputs": [],
   "source": [
    "# LR\n",
    "params_LR = {\n",
    "    \"C\": [0.001, 0.01, 0.1, 1, 10, 100, 1000],\n",
    "    \"penalty\": [\"l1\",\"l2\"]\n",
    "}"
   ]
  },
  {
   "cell_type": "code",
   "execution_count": 44,
   "metadata": {
    "pycharm": {
     "name": "#%%\n"
    }
   },
   "outputs": [
    {
     "name": "stdout",
     "output_type": "stream",
     "text": [
      "124.49985629999998\n"
     ]
    }
   ],
   "source": [
    "name, lrn_time, model = get_best_clf_lr(\"LR_daal4py_v2\" ,linear_model.LogisticRegression(), params_LR)\n",
    "learn_data_daal_v2.append([name, model, lrn_time])"
   ]
  },
  {
   "cell_type": "code",
   "execution_count": 45,
   "metadata": {
    "pycharm": {
     "name": "#%%\n"
    }
   },
   "outputs": [],
   "source": [
    "# RF\n",
    "\n",
    "params_RF = {\n",
    "    'n_estimators': [1, 3, 5, 7, 9, 10],\n",
    "    'max_depth': range(3,8),\n",
    "    'min_samples_leaf': [2, 4, 6, 8],\n",
    "    'min_samples_split': [2, 4, 6, 8, 10]\n",
    "}"
   ]
  },
  {
   "cell_type": "code",
   "execution_count": 46,
   "metadata": {
    "pycharm": {
     "name": "#%%\n"
    }
   },
   "outputs": [
    {
     "name": "stdout",
     "output_type": "stream",
     "text": [
      "57.24978229999999\n"
     ]
    }
   ],
   "source": [
    "name, lrn_time, model = get_best_clf_lr(\"RF_daal4py_v2\", ensemble.RandomForestClassifier(random_state = 42), params_RF)\n",
    "learn_data_daal_v2.append([name, model, lrn_time])"
   ]
  },
  {
   "cell_type": "code",
   "execution_count": 47,
   "metadata": {
    "pycharm": {
     "name": "#%%\n"
    }
   },
   "outputs": [],
   "source": [
    "# KNN\n",
    "\n",
    "params_KNN = {\n",
    "    'n_neighbors': [2, 3, 4, 5, 6, 7, 8, 9, 10],\n",
    "    'weights': ['uniform', 'distance'],\n",
    "    'algorithm': ['auto', 'ball_tree', 'kd_tree', 'brute']\n",
    "}"
   ]
  },
  {
   "cell_type": "code",
   "execution_count": 48,
   "metadata": {
    "pycharm": {
     "name": "#%%\n"
    }
   },
   "outputs": [
    {
     "name": "stdout",
     "output_type": "stream",
     "text": [
      "6.88449849999995\n"
     ]
    }
   ],
   "source": [
    "name, lrn_time, model = get_best_clf_lr(\"KNN_daal4py_v2\", neighbors.KNeighborsClassifier(), params_KNN)\n",
    "learn_data_daal_v2.append([name, model, lrn_time])"
   ]
  },
  {
   "cell_type": "code",
   "execution_count": 49,
   "metadata": {
    "pycharm": {
     "name": "#%%\n"
    }
   },
   "outputs": [
    {
     "data": {
      "text/html": [
       "<div>\n",
       "<style scoped>\n",
       "    .dataframe tbody tr th:only-of-type {\n",
       "        vertical-align: middle;\n",
       "    }\n",
       "\n",
       "    .dataframe tbody tr th {\n",
       "        vertical-align: top;\n",
       "    }\n",
       "\n",
       "    .dataframe thead th {\n",
       "        text-align: right;\n",
       "    }\n",
       "</style>\n",
       "<table border=\"1\" class=\"dataframe\">\n",
       "  <thead>\n",
       "    <tr style=\"text-align: right;\">\n",
       "      <th></th>\n",
       "      <th>class_model</th>\n",
       "      <th>model</th>\n",
       "      <th>learning_time</th>\n",
       "      <th>accuracy</th>\n",
       "      <th>roc_auc_score</th>\n",
       "      <th>precision</th>\n",
       "      <th>recall</th>\n",
       "    </tr>\n",
       "  </thead>\n",
       "  <tbody>\n",
       "    <tr>\n",
       "      <th>0</th>\n",
       "      <td>LR_daal4py_v2</td>\n",
       "      <td>LogisticRegression(C=10, class_weight=None, du...</td>\n",
       "      <td>124.499856</td>\n",
       "      <td>0.725825</td>\n",
       "      <td>0.725607</td>\n",
       "      <td>0.749616</td>\n",
       "      <td>0.680669</td>\n",
       "    </tr>\n",
       "    <tr>\n",
       "      <th>1</th>\n",
       "      <td>RF_daal4py_v2</td>\n",
       "      <td>(DecisionTreeClassifier(class_weight=None, cri...</td>\n",
       "      <td>57.249782</td>\n",
       "      <td>0.735300</td>\n",
       "      <td>0.733052</td>\n",
       "      <td>0.776731</td>\n",
       "      <td>0.656580</td>\n",
       "    </tr>\n",
       "    <tr>\n",
       "      <th>2</th>\n",
       "      <td>KNN_daal4py_v2</td>\n",
       "      <td>KNeighborsClassifier(algorithm='kd_tree', leaf...</td>\n",
       "      <td>6.884498</td>\n",
       "      <td>0.667725</td>\n",
       "      <td>0.667258</td>\n",
       "      <td>0.690353</td>\n",
       "      <td>0.611189</td>\n",
       "    </tr>\n",
       "  </tbody>\n",
       "</table>\n",
       "</div>"
      ],
      "text/plain": [
       "      class_model                                              model  \\\n",
       "0   LR_daal4py_v2  LogisticRegression(C=10, class_weight=None, du...   \n",
       "1   RF_daal4py_v2  (DecisionTreeClassifier(class_weight=None, cri...   \n",
       "2  KNN_daal4py_v2  KNeighborsClassifier(algorithm='kd_tree', leaf...   \n",
       "\n",
       "   learning_time  accuracy  roc_auc_score  precision    recall  \n",
       "0     124.499856  0.725825       0.725607   0.749616  0.680669  \n",
       "1      57.249782  0.735300       0.733052   0.776731  0.656580  \n",
       "2       6.884498  0.667725       0.667258   0.690353  0.611189  "
      ]
     },
     "execution_count": 49,
     "metadata": {},
     "output_type": "execute_result"
    }
   ],
   "source": [
    "learn_data_daal_v2 = add_metrics(learn_data_daal_v2)\n",
    "ldd2 = pd.DataFrame(learn_data_daal_v2).rename(columns={\n",
    "    0:'class_model',\n",
    "    1:'model',\n",
    "    2:'learning_time',\n",
    "    3:'accuracy',\n",
    "    4:'roc_auc_score',\n",
    "    5:'precision',\n",
    "    6:'recall'\n",
    "})\n",
    "ldd2\n"
   ]
  },
  {
   "cell_type": "code",
   "execution_count": 50,
   "metadata": {
    "pycharm": {
     "name": "#%%\n"
    }
   },
   "outputs": [
    {
     "name": "stdout",
     "output_type": "stream",
     "text": [
      "188.63413709999992\n"
     ]
    },
    {
     "data": {
      "text/html": [
       "<div>\n",
       "<style scoped>\n",
       "    .dataframe tbody tr th:only-of-type {\n",
       "        vertical-align: middle;\n",
       "    }\n",
       "\n",
       "    .dataframe tbody tr th {\n",
       "        vertical-align: top;\n",
       "    }\n",
       "\n",
       "    .dataframe thead th {\n",
       "        text-align: right;\n",
       "    }\n",
       "</style>\n",
       "<table border=\"1\" class=\"dataframe\">\n",
       "  <thead>\n",
       "    <tr style=\"text-align: right;\">\n",
       "      <th></th>\n",
       "      <th>class_model</th>\n",
       "      <th>model</th>\n",
       "      <th>learning_time</th>\n",
       "      <th>accuracy</th>\n",
       "      <th>roc_auc_score</th>\n",
       "      <th>precision</th>\n",
       "      <th>recall</th>\n",
       "    </tr>\n",
       "  </thead>\n",
       "  <tbody>\n",
       "    <tr>\n",
       "      <th>0</th>\n",
       "      <td>LR_daal4py_v2</td>\n",
       "      <td>LogisticRegression(C=10, class_weight=None, du...</td>\n",
       "      <td>124.499856</td>\n",
       "      <td>0.725825</td>\n",
       "      <td>0.725607</td>\n",
       "      <td>0.749616</td>\n",
       "      <td>0.680669</td>\n",
       "    </tr>\n",
       "    <tr>\n",
       "      <th>1</th>\n",
       "      <td>RF_daal4py_v2</td>\n",
       "      <td>(DecisionTreeClassifier(class_weight=None, cri...</td>\n",
       "      <td>57.249782</td>\n",
       "      <td>0.735300</td>\n",
       "      <td>0.733052</td>\n",
       "      <td>0.776731</td>\n",
       "      <td>0.656580</td>\n",
       "    </tr>\n",
       "    <tr>\n",
       "      <th>2</th>\n",
       "      <td>KNN_daal4py_v2</td>\n",
       "      <td>KNeighborsClassifier(algorithm='kd_tree', leaf...</td>\n",
       "      <td>6.884498</td>\n",
       "      <td>0.667725</td>\n",
       "      <td>0.667258</td>\n",
       "      <td>0.690353</td>\n",
       "      <td>0.611189</td>\n",
       "    </tr>\n",
       "    <tr>\n",
       "      <th>3</th>\n",
       "      <td>Vote_daal4py_v2</td>\n",
       "      <td>VotingClassifier(estimators=[['LR_daal4py_v2',...</td>\n",
       "      <td>188.634137</td>\n",
       "      <td>0.732600</td>\n",
       "      <td>0.732597</td>\n",
       "      <td>0.768790</td>\n",
       "      <td>0.667928</td>\n",
       "    </tr>\n",
       "  </tbody>\n",
       "</table>\n",
       "</div>"
      ],
      "text/plain": [
       "       class_model                                              model  \\\n",
       "0    LR_daal4py_v2  LogisticRegression(C=10, class_weight=None, du...   \n",
       "1    RF_daal4py_v2  (DecisionTreeClassifier(class_weight=None, cri...   \n",
       "2   KNN_daal4py_v2  KNeighborsClassifier(algorithm='kd_tree', leaf...   \n",
       "3  Vote_daal4py_v2  VotingClassifier(estimators=[['LR_daal4py_v2',...   \n",
       "\n",
       "   learning_time  accuracy  roc_auc_score  precision    recall  \n",
       "0     124.499856  0.725825       0.725607   0.749616  0.680669  \n",
       "1      57.249782  0.735300       0.733052   0.776731  0.656580  \n",
       "2       6.884498  0.667725       0.667258   0.690353  0.611189  \n",
       "3     188.634137  0.732600       0.732597   0.768790  0.667928  "
      ]
     },
     "execution_count": 50,
     "metadata": {},
     "output_type": "execute_result"
    }
   ],
   "source": [
    "# add Vote daal4py\n",
    "model = get_VoteClf(ldd2[[\"class_model\",\"model\"]].values.tolist(), ldd2.learning_time.to_numpy())\n",
    "model = add_metrics([[\"Vote_daal4py_v2\" , model[0], model[1]]])\n",
    "\n",
    "learn_data_daal_v2.append(model[0])\n",
    "ldd2 = pd.DataFrame(learn_data_daal_v2).rename(columns={\n",
    "    0:'class_model',\n",
    "    1:'model',\n",
    "    2:'learning_time',\n",
    "    3:'accuracy',\n",
    "    4:'roc_auc_score',\n",
    "    5:'precision',\n",
    "    6:'recall'\n",
    "})\n",
    "ldd2"
   ]
  },
  {
   "cell_type": "code",
   "execution_count": 51,
   "metadata": {
    "pycharm": {
     "name": "#%%\n"
    }
   },
   "outputs": [
    {
     "data": {
      "text/html": [
       "<div>\n",
       "<style scoped>\n",
       "    .dataframe tbody tr th:only-of-type {\n",
       "        vertical-align: middle;\n",
       "    }\n",
       "\n",
       "    .dataframe tbody tr th {\n",
       "        vertical-align: top;\n",
       "    }\n",
       "\n",
       "    .dataframe thead th {\n",
       "        text-align: right;\n",
       "    }\n",
       "</style>\n",
       "<table border=\"1\" class=\"dataframe\">\n",
       "  <thead>\n",
       "    <tr style=\"text-align: right;\">\n",
       "      <th></th>\n",
       "      <th>class_model</th>\n",
       "      <th>model</th>\n",
       "      <th>learning_time</th>\n",
       "      <th>accuracy</th>\n",
       "      <th>roc_auc_score</th>\n",
       "      <th>precision</th>\n",
       "      <th>recall</th>\n",
       "    </tr>\n",
       "  </thead>\n",
       "  <tbody>\n",
       "    <tr>\n",
       "      <th>0</th>\n",
       "      <td>Vote_sklearn</td>\n",
       "      <td>VotingClassifier(estimators=[['LR_sklearn',\\n ...</td>\n",
       "      <td>203.111449</td>\n",
       "      <td>0.732333</td>\n",
       "      <td>0.730783</td>\n",
       "      <td>0.757083</td>\n",
       "      <td>0.674906</td>\n",
       "    </tr>\n",
       "    <tr>\n",
       "      <th>1</th>\n",
       "      <td>Vote_daal4py</td>\n",
       "      <td>VotingClassifier(estimators=[['LR_daal4py',\\n ...</td>\n",
       "      <td>31.745508</td>\n",
       "      <td>0.732267</td>\n",
       "      <td>0.731713</td>\n",
       "      <td>0.758371</td>\n",
       "      <td>0.675443</td>\n",
       "    </tr>\n",
       "    <tr>\n",
       "      <th>2</th>\n",
       "      <td>Vote_daal4py_v2</td>\n",
       "      <td>VotingClassifier(estimators=[['LR_daal4py_v2',...</td>\n",
       "      <td>188.634137</td>\n",
       "      <td>0.732600</td>\n",
       "      <td>0.732597</td>\n",
       "      <td>0.768790</td>\n",
       "      <td>0.667928</td>\n",
       "    </tr>\n",
       "  </tbody>\n",
       "</table>\n",
       "</div>"
      ],
      "text/plain": [
       "       class_model                                              model  \\\n",
       "0     Vote_sklearn  VotingClassifier(estimators=[['LR_sklearn',\\n ...   \n",
       "1     Vote_daal4py  VotingClassifier(estimators=[['LR_daal4py',\\n ...   \n",
       "2  Vote_daal4py_v2  VotingClassifier(estimators=[['LR_daal4py_v2',...   \n",
       "\n",
       "   learning_time  accuracy  roc_auc_score  precision    recall  \n",
       "0     203.111449  0.732333       0.730783   0.757083  0.674906  \n",
       "1      31.745508  0.732267       0.731713   0.758371  0.675443  \n",
       "2     188.634137  0.732600       0.732597   0.768790  0.667928  "
      ]
     },
     "execution_count": 51,
     "metadata": {},
     "output_type": "execute_result"
    }
   ],
   "source": [
    "# collect the result\n",
    "\n",
    "result = lds[lds.class_model == \"Vote_sklearn\"]\\\n",
    "    .append(ldd[ldd.class_model == \"Vote_daal4py\"])\\\n",
    "    .append(ldd2[ldd2.class_model == \"Vote_daal4py_v2\"])\\\n",
    "    .reset_index().drop('index', axis=1)\n",
    "result"
   ]
  },
  {
   "cell_type": "code",
   "execution_count": 52,
   "metadata": {
    "pycharm": {
     "name": "#%%\n"
    }
   },
   "outputs": [
    {
     "data": {
      "text/plain": [
       "<matplotlib.axes._subplots.AxesSubplot at 0x211daa352e8>"
      ]
     },
     "execution_count": 52,
     "metadata": {},
     "output_type": "execute_result"
    },
    {
     "data": {
      "image/png": "[encoded data removed]",
      "text/plain": [
       "<Figure size 360x360 with 1 Axes>"
      ]
     },
     "metadata": {},
     "output_type": "display_data"
    }
   ],
   "source": [
    "rcParams['figure.figsize'] = 5, 5\n",
    "result.plot.barh(x=\"class_model\", y=\"learning_time\", title='Result Learning Time')"
   ]
  },
  {
   "cell_type": "code",
   "execution_count": 53,
   "metadata": {
    "pycharm": {
     "name": "#%%\n"
    }
   },
   "outputs": [
    {
     "data": {
      "text/plain": [
       "<matplotlib.axes._subplots.AxesSubplot at 0x211dae765f8>"
      ]
     },
     "execution_count": 53,
     "metadata": {},
     "output_type": "execute_result"
    },
    {
     "data": {
      "image/png": "[encoded data removed]",
      "text/plain": [
       "<Figure size 360x360 with 1 Axes>"
      ]
     },
     "metadata": {},
     "output_type": "display_data"
    }
   ],
   "source": [
    "rcParams['figure.figsize'] = 5, 5\n",
    "result.plot.barh(x=\"class_model\", y=\"accuracy\", title='Result Accuracy')"
   ]
  },
  {
   "cell_type": "code",
   "execution_count": 54,
   "metadata": {
    "pycharm": {
     "name": "#%%\n"
    }
   },
   "outputs": [
    {
     "data": {
      "text/plain": [
       "<matplotlib.axes._subplots.AxesSubplot at 0x211dae1c358>"
      ]
     },
     "execution_count": 54,
     "metadata": {},
     "output_type": "execute_result"
    },
    {
     "data": {
      "image/png": "[encoded data removed]",
      "text/plain": [
       "<Figure size 360x360 with 1 Axes>"
      ]
     },
     "metadata": {},
     "output_type": "display_data"
    }
   ],
   "source": [
    "rcParams['figure.figsize'] = 5, 5\n",
    "result.plot.barh(x=\"class_model\", y=\"roc_auc_score\", title='Result ROC AUC Score')"
   ]
  },
  {
   "cell_type": "code",
   "execution_count": 55,
   "metadata": {
    "pycharm": {
     "name": "#%%\n"
    }
   },
   "outputs": [],
   "source": [
    "result.to_csv(\"Result/result_v1.csv\")"
   ]
  },
  {
   "cell_type": "code",
   "execution_count": 57,
   "metadata": {
    "pycharm": {
     "name": "#%%\n"
    }
   },
   "outputs": [
    {
     "data": {
      "text/html": [
       "<div>\n",
       "<style scoped>\n",
       "    .dataframe tbody tr th:only-of-type {\n",
       "        vertical-align: middle;\n",
       "    }\n",
       "\n",
       "    .dataframe tbody tr th {\n",
       "        vertical-align: top;\n",
       "    }\n",
       "\n",
       "    .dataframe thead th {\n",
       "        text-align: right;\n",
       "    }\n",
       "</style>\n",
       "<table border=\"1\" class=\"dataframe\">\n",
       "  <thead>\n",
       "    <tr style=\"text-align: right;\">\n",
       "      <th></th>\n",
       "      <th>class_model</th>\n",
       "      <th>model</th>\n",
       "      <th>learning_time</th>\n",
       "      <th>accuracy</th>\n",
       "      <th>roc_auc_score</th>\n",
       "      <th>precision</th>\n",
       "      <th>recall</th>\n",
       "    </tr>\n",
       "  </thead>\n",
       "  <tbody>\n",
       "    <tr>\n",
       "      <th>0</th>\n",
       "      <td>Vote_sklearn</td>\n",
       "      <td>VotingClassifier(estimators=[['LR_sklearn',\\n ...</td>\n",
       "      <td>203.111449</td>\n",
       "      <td>0.732333</td>\n",
       "      <td>0.730783</td>\n",
       "      <td>0.757083</td>\n",
       "      <td>0.674906</td>\n",
       "    </tr>\n",
       "    <tr>\n",
       "      <th>1</th>\n",
       "      <td>Vote_daal4py</td>\n",
       "      <td>VotingClassifier(estimators=[['LR_daal4py',\\n ...</td>\n",
       "      <td>31.745508</td>\n",
       "      <td>0.732267</td>\n",
       "      <td>0.731713</td>\n",
       "      <td>0.758371</td>\n",
       "      <td>0.675443</td>\n",
       "    </tr>\n",
       "    <tr>\n",
       "      <th>2</th>\n",
       "      <td>Vote_daal4py_v2</td>\n",
       "      <td>VotingClassifier(estimators=[['LR_daal4py_v2',...</td>\n",
       "      <td>188.634137</td>\n",
       "      <td>0.732600</td>\n",
       "      <td>0.732597</td>\n",
       "      <td>0.768790</td>\n",
       "      <td>0.667928</td>\n",
       "    </tr>\n",
       "  </tbody>\n",
       "</table>\n",
       "</div>"
      ],
      "text/plain": [
       "       class_model                                              model  \\\n",
       "0     Vote_sklearn  VotingClassifier(estimators=[['LR_sklearn',\\n ...   \n",
       "1     Vote_daal4py  VotingClassifier(estimators=[['LR_daal4py',\\n ...   \n",
       "2  Vote_daal4py_v2  VotingClassifier(estimators=[['LR_daal4py_v2',...   \n",
       "\n",
       "   learning_time  accuracy  roc_auc_score  precision    recall  \n",
       "0     203.111449  0.732333       0.730783   0.757083  0.674906  \n",
       "1      31.745508  0.732267       0.731713   0.758371  0.675443  \n",
       "2     188.634137  0.732600       0.732597   0.768790  0.667928  "
      ]
     },
     "execution_count": 57,
     "metadata": {},
     "output_type": "execute_result"
    }
   ],
   "source": [
    "#check my result\n",
    "author_data = pd.read_csv('Result/my_result.csv').drop('Unnamed: 0', axis=1)\n",
    "author_data"
   ]
  },
  {
   "cell_type": "markdown",
   "metadata": {
    "pycharm": {
     "name": "#%% md\n"
    }
   },
   "source": [
    "**Done!**\n",
    "\n",
    "Оговорим полученный результат:\n",
    " 1. Полученный ROC AUC Score моделей **0.73**. Неплохой результат, учитывая то, что были опущены моменты feature engineering.\n",
    " 2. Инструменты библиотеки **daal4py** позволили увеличить скорость обучения модели приблизительно в 6 раз.\n",
    " В частности модель KNeighborsClassifier выявила ускорение более чем в 30 раз.\n",
    " 3. За счёт выигрыша во времени, появлась возможность поработать с финальным\n",
    " качеством модели без временных потерь. Был увеличен размер обучающей выборки на 34%,\n",
    " подобраны более точные параметры n_estimator, max_depth в модели RandomForest."
   ]
  },
  {
   "cell_type": "markdown",
   "metadata": {
    "pycharm": {
     "name": "#%% md\n"
    }
   },
   "source": [
    "#### Hardware & Software Configuration\n",
    "##### Hardware\n",
    "Intel(R) Core(TM) i5-6300HQ CPU @ 2.30GHz 4 core;\n",
    "8,00Gb RAM\n",
    "\n",
    "\n",
    "##### Software\n",
    "python 3.6.9\n",
    "\n",
    "absl-py==0.8.1\n",
    "asn1crypto==0.24.0\n",
    "backcall==0.1.0\n",
    "backports.shutil-get-terminal-size==1.0.0\n",
    "bleach==1.5.0\n",
    "certifi==2018.1.18\n",
    "cffi==1.11.5\n",
    "chardet==3.0.4\n",
    "colorama==0.3.9\n",
    "cryptography==2.3\n",
    "cycler==0.10.0\n",
    "Cython==0.29.13\n",
    "daal==2019.0\n",
    "daal4py==2019.5\n",
    "decorator==4.3.0\n",
    "entrypoints==0.2.3\n",
    "funcsigs==1.0.2\n",
    "h5py==2.10.0\n",
    "html5lib==0.9999999\n",
    "idna==2.6\n",
    "intel-numpy==1.15.1\n",
    "intel-scipy==1.1.0\n",
    "ipykernel==4.6.1\n",
    "ipython==6.3.1\n",
    "ipython-genutils==0.2.0\n",
    "ipywidgets==7.0.0\n",
    "jedi==0.12.0\n",
    "Jinja2==2.9.6\n",
    "joblib==0.13.2\n",
    "jsonschema==2.6.0\n",
    "jupyter==1.0.0\n",
    "jupyter-client==5.1.0\n",
    "jupyter-console==5.1.0\n",
    "jupyter-core==4.4.0\n",
    "kiwisolver==1.0.1\n",
    "llvmlite==0.27.1\n",
    "Markdown==3.1.1\n",
    "MarkupSafe==1.0\n",
    "matplotlib==3.1.1\n",
    "menuinst==1.4.1\n",
    "mistune==0.8.3\n",
    "mkl==2019.0\n",
    "mkl-fft==1.0.14\n",
    "mkl-random==1.0.4\n",
    "mkl-service==2.3.0\n",
    "mpi4py==3.0.0\n",
    "nbconvert==5.2.1\n",
    "nbformat==4.4.0\n",
    "notebook==5.2.2\n",
    "numba==0.42.1\n",
    "numexpr==2.6.9\n",
    "numpy==1.17.0\n",
    "pandas==0.25.0+0.gd1accd0.dirty\n",
    "pandocfilters==1.4.1\n",
    "parso==0.2.0\n",
    "path.py==11.0.1\n",
    "pickleshare==0.7.4\n",
    "prompt-toolkit==1.0.15\n",
    "protobuf==3.10.0\n",
    "pycosat==0.6.3\n",
    "pycparser==2.18\n",
    "pydaal==2019.0.0.20180713\n",
    "Pygments==2.2.0\n",
    "pyOpenSSL==17.5.0\n",
    "pyparsing==2.2.0\n",
    "PySocks==1.6.7\n",
    "python-dateutil==2.8.0\n",
    "pytz==2019.1\n",
    "PyYAML==5.1.1\n",
    "pyzmq==16.0.2\n",
    "requests==2.20.1\n",
    "scikit-learn==0.21.3\n",
    "scipy==1.3.1\n",
    "seaborn==0.10.1\n",
    "simplegeneric==0.8.1\n",
    "six==1.12.0\n",
    "tbb==2019.0\n",
    "tbb4py==2019.0\n",
    "testpath==0.3\n",
    "tornado==4.5.2\n",
    "traitlets==4.3.2\n",
    "urllib3==1.24.1\n",
    "wcwidth==0.1.7\n",
    "webencodings==0.5.1\n",
    "Werkzeug==0.16.0\n",
    "widgetsnbextension==3.2.0\n",
    "win-inet-pton==1.0.1\n",
    "win-unicode-console==0.5\n",
    "wincertstore==0.2"
   ]
  },
  {
   "cell_type": "code",
   "execution_count": 56,
   "metadata": {
    "pycharm": {
     "name": "#%%"
    }
   },
   "outputs": [],
   "source": []
  }
 ],
 "metadata": {
  "kernelspec": {
   "display_name": "Python 3",
   "language": "python",
   "name": "python3"
  },
  "language_info": {
   "codemirror_mode": {
    "name": "ipython",
    "version": 3
   },
   "file_extension": ".py",
   "mimetype": "text/x-python",
   "name": "python",
   "nbconvert_exporter": "python",
   "pygments_lexer": "ipython3",
   "version": "3.8.3"
  }
 },
 "nbformat": 4,
 "nbformat_minor": 1
}
